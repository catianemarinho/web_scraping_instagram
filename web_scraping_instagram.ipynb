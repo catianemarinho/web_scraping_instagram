{
 "cells": [
  {
   "cell_type": "code",
   "execution_count": 2,
   "metadata": {},
   "outputs": [],
   "source": [
    "from selenium import webdriver\n",
    "from selenium.webdriver.support import expected_conditions as EC\n",
    "from selenium.webdriver.common.by import By\n",
    "from selenium.webdriver.support.wait import WebDriverWait\n",
    "import time"
   ]
  },
  {
   "cell_type": "markdown",
   "metadata": {},
   "source": [
    "# Login"
   ]
  },
  {
   "cell_type": "code",
   "execution_count": 15,
   "metadata": {},
   "outputs": [],
   "source": [
    "driver = webdriver.Chrome()\n",
    "driver.get(\"https://www.instagram.com/accounts/login/\")\n",
    "\n",
    "username = WebDriverWait(driver, 10).until(EC.element_to_be_clickable((\n",
    "    By.XPATH, '//*[@id=\"loginForm\"]/div/div[1]/div/label/input'\n",
    "    ))).send_keys(\"username\")\n",
    "\n",
    "password = WebDriverWait(driver, 10).until(EC.element_to_be_clickable((\n",
    "    By.XPATH, \n",
    "    '//*[@id=\"loginForm\"]/div/div[2]/div/label/input'\n",
    "    ))).send_keys(\"password\")\n",
    "\n",
    "\n",
    "button = WebDriverWait(driver, 2).until(EC.element_to_be_clickable((\n",
    "    By.XPATH, \n",
    "    '//*[@id=\"loginForm\"]/div/div[3]'\n",
    "    ))).click()\n",
    "\n",
    "\n",
    "not_now = WebDriverWait(driver, 10).until(EC.element_to_be_clickable((By.XPATH, '//div[contains(text(), \"Agora não\")]'))).click()\n",
    "\n",
    "not_now2 = WebDriverWait(driver, 10).until(EC.element_to_be_clickable((By.XPATH, '//button[contains(text(), \"Agora não\")]'))).click()"
   ]
  },
  {
   "cell_type": "markdown",
   "metadata": {},
   "source": [
    "# Search"
   ]
  },
  {
   "cell_type": "code",
   "execution_count": 16,
   "metadata": {},
   "outputs": [
    {
     "name": "stdout",
     "output_type": "stream",
     "text": [
      "Number of scraped images:  9\n"
     ]
    }
   ],
   "source": [
    "keyword = 'dog'\n",
    "\n",
    "driver.get(f\"https://www.instagram.com/explore/tags/{keyword}/\")\n",
    "\n",
    "time.sleep(5)\n",
    "\n",
    "images = driver.find_elements(By.TAG_NAME, 'img')\n",
    "img = {image.get_attribute('src') for image in images[4:]}\n",
    "\n",
    "print('Number of scraped images: ', len(img))"
   ]
  }
 ],
 "metadata": {
  "kernelspec": {
   "display_name": "venv",
   "language": "python",
   "name": "python3"
  },
  "language_info": {
   "codemirror_mode": {
    "name": "ipython",
    "version": 3
   },
   "file_extension": ".py",
   "mimetype": "text/x-python",
   "name": "python",
   "nbconvert_exporter": "python",
   "pygments_lexer": "ipython3",
   "version": "3.10.9"
  },
  "orig_nbformat": 4
 },
 "nbformat": 4,
 "nbformat_minor": 2
}
